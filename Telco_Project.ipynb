{
 "cells": [
  {
   "cell_type": "markdown",
   "id": "d14bd3b5",
   "metadata": {},
   "source": [
    "# Project Goals"
   ]
  },
  {
   "cell_type": "markdown",
   "id": "0155b530",
   "metadata": {},
   "source": [
    "By Paige Guajardo"
   ]
  },
  {
   "cell_type": "markdown",
   "id": "ac8ab4ff",
   "metadata": {},
   "source": [
    "### 1) Find drivers for churn\n",
    "\n",
    "### 2) Create a ML Model to predict churn (accurately) using classification"
   ]
  },
  {
   "cell_type": "code",
   "execution_count": 1,
   "id": "2e8cb506",
   "metadata": {},
   "outputs": [],
   "source": [
    "import pandas as pd\n",
    "import seaborn as sns\n",
    "import scipy.stats as stats\n",
    "\n",
    "from sklearn.metrics import accuracy_score\n",
    "from sklearn.metrics import classification_report\n",
    "\n",
    "import env\n",
    "import acquireTelco\n",
    "import prepTelco\n",
    "\n",
    "from sklearn.model_selection import train_test_split\n",
    "\n",
    "from sklearn.tree import DecisionTreeClassifier\n",
    "from sklearn.ensemble import RandomForestClassifier\n",
    "from sklearn.neighbors import KNeighborsClassifier\n",
    "\n",
    "from sklearn.tree import export_graphviz\n",
    "from sklearn.metrics import confusion_matrix\n",
    "\n",
    "import matplotlib.pyplot as plt\n",
    "\n",
    "import graphviz\n",
    "from graphviz import Graph"
   ]
  },
  {
   "cell_type": "code",
   "execution_count": 54,
   "id": "6cef305a",
   "metadata": {},
   "outputs": [],
   "source": [
    "# Here we take from our code up sql server, telco churn to acquire our data, can reference code in my repo"
   ]
  },
  {
   "cell_type": "code",
   "execution_count": 3,
   "id": "08497caf",
   "metadata": {},
   "outputs": [],
   "source": [
    "telco_churn = acquireTelco.get_telco_data()\n",
    "telco_df = telco_churn.copy()"
   ]
  },
  {
   "cell_type": "code",
   "execution_count": 4,
   "id": "a4d5935a",
   "metadata": {},
   "outputs": [],
   "source": [
    "# Prep Telco has both my clean fuction and split function\n",
    "# We drop any duplicates need, change total charges to float type and encode all the variables needed to be encoded\n",
    "# We drop any extra data (payment, internet, contract type ID's) since we need only customer ID"
   ]
  },
  {
   "cell_type": "code",
   "execution_count": 5,
   "id": "9c4e361a",
   "metadata": {},
   "outputs": [],
   "source": [
    "telco_df1 = prepTelco.clean_telco(telco_df)"
   ]
  },
  {
   "cell_type": "markdown",
   "id": "958be6c9",
   "metadata": {},
   "source": [
    "## We see here the amount of churn within this data set"
   ]
  },
  {
   "cell_type": "code",
   "execution_count": 6,
   "id": "d5fa8068",
   "metadata": {},
   "outputs": [
    {
     "data": {
      "text/html": [
       "<div>\n",
       "<style scoped>\n",
       "    .dataframe tbody tr th:only-of-type {\n",
       "        vertical-align: middle;\n",
       "    }\n",
       "\n",
       "    .dataframe tbody tr th {\n",
       "        vertical-align: top;\n",
       "    }\n",
       "\n",
       "    .dataframe thead th {\n",
       "        text-align: right;\n",
       "    }\n",
       "</style>\n",
       "<table border=\"1\" class=\"dataframe\">\n",
       "  <thead>\n",
       "    <tr style=\"text-align: right;\">\n",
       "      <th>churn_Yes</th>\n",
       "      <th>0</th>\n",
       "      <th>1</th>\n",
       "    </tr>\n",
       "    <tr>\n",
       "      <th>churn</th>\n",
       "      <th></th>\n",
       "      <th></th>\n",
       "    </tr>\n",
       "  </thead>\n",
       "  <tbody>\n",
       "    <tr>\n",
       "      <th>No</th>\n",
       "      <td>5174</td>\n",
       "      <td>0</td>\n",
       "    </tr>\n",
       "    <tr>\n",
       "      <th>Yes</th>\n",
       "      <td>0</td>\n",
       "      <td>1869</td>\n",
       "    </tr>\n",
       "  </tbody>\n",
       "</table>\n",
       "</div>"
      ],
      "text/plain": [
       "churn_Yes     0     1\n",
       "churn                \n",
       "No         5174     0\n",
       "Yes           0  1869"
      ]
     },
     "execution_count": 6,
     "metadata": {},
     "output_type": "execute_result"
    }
   ],
   "source": [
    "pd.crosstab(telco_df1['churn'], telco_df1['churn_Yes'])"
   ]
  },
  {
   "cell_type": "markdown",
   "id": "6a0cd375",
   "metadata": {},
   "source": [
    "## We split the data here"
   ]
  },
  {
   "cell_type": "code",
   "execution_count": 55,
   "id": "662f6953",
   "metadata": {},
   "outputs": [],
   "source": [
    "# Split the data 55, 25, 20 for train, validate, test"
   ]
  },
  {
   "cell_type": "code",
   "execution_count": 7,
   "id": "f8ad1aba",
   "metadata": {},
   "outputs": [],
   "source": [
    "train, validate, test = prepTelco.prep_telco(telco_df, 'churn')"
   ]
  },
  {
   "cell_type": "markdown",
   "id": "ec29bcd0",
   "metadata": {},
   "source": [
    "# Question 1: "
   ]
  },
  {
   "cell_type": "markdown",
   "id": "e035a834",
   "metadata": {},
   "source": [
    "### Is electric checking a large cause for churn?"
   ]
  },
  {
   "cell_type": "code",
   "execution_count": 8,
   "id": "b2289374",
   "metadata": {},
   "outputs": [
    {
     "data": {
      "text/html": [
       "<div>\n",
       "<style scoped>\n",
       "    .dataframe tbody tr th:only-of-type {\n",
       "        vertical-align: middle;\n",
       "    }\n",
       "\n",
       "    .dataframe tbody tr th {\n",
       "        vertical-align: top;\n",
       "    }\n",
       "\n",
       "    .dataframe thead th {\n",
       "        text-align: right;\n",
       "    }\n",
       "</style>\n",
       "<table border=\"1\" class=\"dataframe\">\n",
       "  <thead>\n",
       "    <tr style=\"text-align: right;\">\n",
       "      <th>payment_type</th>\n",
       "      <th>Bank transfer (automatic)</th>\n",
       "      <th>Credit card (automatic)</th>\n",
       "      <th>Electronic check</th>\n",
       "      <th>Mailed check</th>\n",
       "    </tr>\n",
       "    <tr>\n",
       "      <th>churn</th>\n",
       "      <th></th>\n",
       "      <th></th>\n",
       "      <th></th>\n",
       "      <th></th>\n",
       "    </tr>\n",
       "  </thead>\n",
       "  <tbody>\n",
       "    <tr>\n",
       "      <th>No</th>\n",
       "      <td>1286</td>\n",
       "      <td>1290</td>\n",
       "      <td>1294</td>\n",
       "      <td>1304</td>\n",
       "    </tr>\n",
       "    <tr>\n",
       "      <th>Yes</th>\n",
       "      <td>258</td>\n",
       "      <td>232</td>\n",
       "      <td>1071</td>\n",
       "      <td>308</td>\n",
       "    </tr>\n",
       "  </tbody>\n",
       "</table>\n",
       "</div>"
      ],
      "text/plain": [
       "payment_type  Bank transfer (automatic)  Credit card (automatic)  \\\n",
       "churn                                                              \n",
       "No                                 1286                     1290   \n",
       "Yes                                 258                      232   \n",
       "\n",
       "payment_type  Electronic check  Mailed check  \n",
       "churn                                         \n",
       "No                        1294          1304  \n",
       "Yes                       1071           308  "
      ]
     },
     "execution_count": 8,
     "metadata": {},
     "output_type": "execute_result"
    }
   ],
   "source": [
    "pd.crosstab(telco_churn['churn'], telco_churn['payment_type'])"
   ]
  },
  {
   "cell_type": "code",
   "execution_count": 10,
   "id": "18465dfa",
   "metadata": {},
   "outputs": [
    {
     "data": {
      "text/plain": [
       "<seaborn.axisgrid.FacetGrid at 0x7fbd085acac0>"
      ]
     },
     "execution_count": 10,
     "metadata": {},
     "output_type": "execute_result"
    },
    {
     "data": {
      "image/png": "[encoded data removed]",
      "text/plain": [
       "<Figure size 916x576 with 1 Axes>"
      ]
     },
     "metadata": {
      "needs_background": "light"
     },
     "output_type": "display_data"
    }
   ],
   "source": [
    "sns.displot(x = 'payment_type', data = telco_churn, hue = 'churn', alpha = 0.5, multiple = 'stack',\n",
    "            height=8, aspect=12/8)"
   ]
  },
  {
   "cell_type": "code",
   "execution_count": 9,
   "id": "a8133dc3",
   "metadata": {},
   "outputs": [
    {
     "data": {
      "text/plain": [
       "<AxesSubplot:title={'center':'Payment Type and their Churn Rate'}, xlabel='payment_type', ylabel='has_churn'>"
      ]
     },
     "execution_count": 9,
     "metadata": {},
     "output_type": "execute_result"
    },
    {
     "data": {
      "image/png": "[encoded data removed]",
      "text/plain": [
       "<Figure size 1080x576 with 1 Axes>"
      ]
     },
     "metadata": {
      "needs_background": "light"
     },
     "output_type": "display_data"
    }
   ],
   "source": [
    "plt.figure(figsize=(15,8))\n",
    "plt.title('Payment Type and their Churn Rate')\n",
    "sns.barplot(x = 'payment_type', y = 'has_churn', data = train)"
   ]
  },
  {
   "cell_type": "markdown",
   "id": "b5e57d10",
   "metadata": {},
   "source": [
    "#### Want to run a chi^2 test for two descrete variables, eletronic_check and has_churn"
   ]
  },
  {
   "cell_type": "code",
   "execution_count": 11,
   "id": "8bfba02e",
   "metadata": {},
   "outputs": [],
   "source": [
    "observed = pd.crosstab(train['payment_type_Electronic check'], train.has_churn)"
   ]
  },
  {
   "cell_type": "code",
   "execution_count": 12,
   "id": "19fea71b",
   "metadata": {},
   "outputs": [],
   "source": [
    "chi, p, degrf, expected = stats.chi2_contingency(observed)"
   ]
  },
  {
   "cell_type": "code",
   "execution_count": 13,
   "id": "5a1c1bc3",
   "metadata": {},
   "outputs": [
    {
     "name": "stdout",
     "output_type": "stream",
     "text": [
      "Observed\n",
      "has_churn                         0    1\n",
      "payment_type_Electronic check           \n",
      "0                              2172  451\n",
      "1                               725  595\n",
      "--------------------------------------\n",
      "--------------------------------------\n",
      "Expected\n",
      "[[1927.16992138  695.83007862]\n",
      " [ 969.83007862  350.16992138]]\n",
      "--------------------------------------\n",
      "---\n",
      "\n",
      "chi^2 = 348.8043\n",
      "p     = 0.0000\n"
     ]
    }
   ],
   "source": [
    "print('Observed')\n",
    "print(observed)\n",
    "print(\"--------------------------------------\")\n",
    "print('--------------------------------------\\nExpected')\n",
    "print(expected)\n",
    "print(\"--------------------------------------\")\n",
    "print('---\\n')\n",
    "print(f'chi^2 = {chi:.4f}')\n",
    "print(f'p     = {p:.4f}')"
   ]
  },
  {
   "cell_type": "markdown",
   "id": "ba1ebf27",
   "metadata": {},
   "source": [
    "Probability of deviations from what is expected, its low, lower than our usual .05 test indicatinting a relationship"
   ]
  },
  {
   "cell_type": "markdown",
   "id": "152d9865",
   "metadata": {},
   "source": [
    "#### Answer: There is a relationship between eletric checking and churn!"
   ]
  },
  {
   "cell_type": "markdown",
   "id": "b390336c",
   "metadata": {},
   "source": [
    "# Question 2"
   ]
  },
  {
   "cell_type": "markdown",
   "id": "c4fb9ce3",
   "metadata": {},
   "source": [
    "#### Is internet internet service type(Fiber Optic) a cause for churn?"
   ]
  },
  {
   "cell_type": "code",
   "execution_count": 15,
   "id": "3871b2a7",
   "metadata": {},
   "outputs": [
    {
     "data": {
      "text/plain": [
       "<AxesSubplot:title={'center':'Internet Service Type and their Churn Rates'}, xlabel='internet_service_type', ylabel='has_churn'>"
      ]
     },
     "execution_count": 15,
     "metadata": {},
     "output_type": "execute_result"
    },
    {
     "data": {
      "image/png": "[encoded data removed]",
      "text/plain": [
       "<Figure size 1080x576 with 1 Axes>"
      ]
     },
     "metadata": {
      "needs_background": "light"
     },
     "output_type": "display_data"
    }
   ],
   "source": [
    "plt.figure(figsize=(15,8))\n",
    "plt.title('Internet Service Type and their Churn Rates')\n",
    "sns.barplot(x = 'internet_service_type', y = 'has_churn', data = train)"
   ]
  },
  {
   "cell_type": "markdown",
   "id": "b433bed3",
   "metadata": {},
   "source": [
    "#### Want to run a chi^2 test for two descrete variables, fiber optics and has_churn"
   ]
  },
  {
   "cell_type": "code",
   "execution_count": 16,
   "id": "49899f14",
   "metadata": {},
   "outputs": [
    {
     "name": "stdout",
     "output_type": "stream",
     "text": [
      "Observed\n",
      "has_churn                             0    1\n",
      "internet_service_type_Fiber optic           \n",
      "0                                  1881  322\n",
      "1                                  1016  724\n",
      "--------------------------------------\n",
      "---\n",
      "Expected\n",
      "[[1618.58762364  584.41237636]\n",
      " [1278.41237636  461.58762364]]\n",
      "--------------------------------------\n",
      "---\n",
      "\n",
      "chi^2 = 362.0332\n",
      "p     = 0.0000\n"
     ]
    }
   ],
   "source": [
    "observed = pd.crosstab(train['internet_service_type_Fiber optic'], train.has_churn)\n",
    "chi, p, degrf, expected = stats.chi2_contingency(observed)\n",
    "\n",
    "print('Observed')\n",
    "print(observed)\n",
    "print(\"--------------------------------------\")\n",
    "print('---\\nExpected')\n",
    "print(expected)\n",
    "print(\"--------------------------------------\")\n",
    "print('---\\n')\n",
    "print(f'chi^2 = {chi:.4f}')\n",
    "print(f'p     = {p:.4f}')"
   ]
  },
  {
   "cell_type": "markdown",
   "id": "778736ae",
   "metadata": {},
   "source": [
    "#### Answer: There is a relationship between service type fiber optic and churn!"
   ]
  },
  {
   "cell_type": "markdown",
   "id": "9843cdc8",
   "metadata": {},
   "source": [
    "# Question 3:"
   ]
  },
  {
   "cell_type": "markdown",
   "id": "c253aa5b",
   "metadata": {},
   "source": [
    "#### Is being a senior citizen a reason for churn?"
   ]
  },
  {
   "cell_type": "code",
   "execution_count": 17,
   "id": "1f136c20",
   "metadata": {},
   "outputs": [
    {
     "data": {
      "text/plain": [
       "<AxesSubplot:xlabel='senior_citizen', ylabel='has_churn'>"
      ]
     },
     "execution_count": 17,
     "metadata": {},
     "output_type": "execute_result"
    },
    {
     "data": {
      "image/png": "[encoded data removed]",
      "text/plain": [
       "<Figure size 432x288 with 1 Axes>"
      ]
     },
     "metadata": {
      "needs_background": "light"
     },
     "output_type": "display_data"
    }
   ],
   "source": [
    "sns.barplot(x = 'senior_citizen', y = 'has_churn', data = train)"
   ]
  },
  {
   "cell_type": "markdown",
   "id": "65f433e0",
   "metadata": {},
   "source": [
    "#### Want to run a chi^2 test for two descrete variables, senior_citizen and has_churn"
   ]
  },
  {
   "cell_type": "code",
   "execution_count": 18,
   "id": "6d211206",
   "metadata": {},
   "outputs": [
    {
     "name": "stdout",
     "output_type": "stream",
     "text": [
      "Observed\n",
      "has_churn          0    1\n",
      "senior_citizen           \n",
      "0               2533  770\n",
      "1                364  276\n",
      "--------------------------------------\n",
      "---\n",
      "Expected\n",
      "[[2426.77935582  876.22064418]\n",
      " [ 470.22064418  169.77935582]]\n",
      "--------------------------------------\n",
      "---\n",
      "\n",
      "chi^2 = 106.9624\n",
      "p     = 0.0000\n"
     ]
    }
   ],
   "source": [
    "observed = pd.crosstab(train['senior_citizen'], train.has_churn)\n",
    "chi, p, degrf, expected = stats.chi2_contingency(observed)\n",
    "\n",
    "print('Observed')\n",
    "print(observed)\n",
    "print(\"--------------------------------------\")\n",
    "print('---\\nExpected')\n",
    "print(expected)\n",
    "print(\"--------------------------------------\")\n",
    "print('---\\n')\n",
    "print(f'chi^2 = {chi:.4f}')\n",
    "print(f'p     = {p:.4f}')"
   ]
  },
  {
   "cell_type": "markdown",
   "id": "7de7f411",
   "metadata": {},
   "source": [
    "#### Answer: There is a relationship between senior citizen and churn"
   ]
  },
  {
   "cell_type": "markdown",
   "id": "8bfffd58",
   "metadata": {},
   "source": [
    "# Question 4:"
   ]
  },
  {
   "cell_type": "markdown",
   "id": "a24874ff",
   "metadata": {},
   "source": [
    "#### Is having an dependent effect churn?"
   ]
  },
  {
   "cell_type": "code",
   "execution_count": 19,
   "id": "e69476ca",
   "metadata": {},
   "outputs": [
    {
     "data": {
      "text/plain": [
       "<AxesSubplot:xlabel='has_dependent', ylabel='has_churn'>"
      ]
     },
     "execution_count": 19,
     "metadata": {},
     "output_type": "execute_result"
    },
    {
     "data": {
      "image/png": "[encoded data removed]",
      "text/plain": [
       "<Figure size 432x288 with 1 Axes>"
      ]
     },
     "metadata": {
      "needs_background": "light"
     },
     "output_type": "display_data"
    }
   ],
   "source": [
    "sns.barplot(x = 'has_dependent', y = 'has_churn', data = train)"
   ]
  },
  {
   "cell_type": "markdown",
   "id": "13e53e2c",
   "metadata": {},
   "source": [
    "#### Want to run a chi^2 test for two descrete variables, has_dependent and has_churn"
   ]
  },
  {
   "cell_type": "code",
   "execution_count": 60,
   "id": "1a7db74c",
   "metadata": {},
   "outputs": [
    {
     "name": "stdout",
     "output_type": "stream",
     "text": [
      "Observed\n",
      "has_churn         0    1\n",
      "has_dependent           \n",
      "0              1903  861\n",
      "1               994  185\n",
      "--------------------------------------\n",
      "---\n",
      "Expected\n",
      "[[2030.76540705  733.23459295]\n",
      " [ 866.23459295  312.76540705]]\n",
      "--------------------------------------\n",
      "---\n",
      "\n",
      "chi^2 = 100.5470\n",
      "p     = 0.0000\n"
     ]
    }
   ],
   "source": [
    "observed = pd.crosstab(train['has_dependent'], train.has_churn)\n",
    "chi, p, degrf, expected = stats.chi2_contingency(observed)\n",
    "\n",
    "print('Observed')\n",
    "print(observed)\n",
    "print(\"--------------------------------------\")\n",
    "print('---\\nExpected')\n",
    "print(expected)\n",
    "print(\"--------------------------------------\")\n",
    "print('---\\n')\n",
    "print(f'chi^2 = {chi:.4f}')\n",
    "print(f'p     = {p:.4f}')"
   ]
  },
  {
   "cell_type": "markdown",
   "id": "39755957",
   "metadata": {},
   "source": [
    "### Answer: There is a relationship between having a dependent and churn!"
   ]
  },
  {
   "cell_type": "markdown",
   "id": "c12753d1",
   "metadata": {},
   "source": [
    "# Decisioin Tree Model Creation"
   ]
  },
  {
   "cell_type": "code",
   "execution_count": 21,
   "id": "550b4e97",
   "metadata": {},
   "outputs": [],
   "source": [
    "train['baseline'] = 0\n",
    "\n",
    "validate['baseline'] = 0\n",
    "\n",
    "test['baseline'] = 0"
   ]
  },
  {
   "cell_type": "code",
   "execution_count": 22,
   "id": "a2642e89",
   "metadata": {},
   "outputs": [],
   "source": [
    "# We are testing for accuracy: number of times we predicted correctly \n",
    "# (for churn, which is our reason for creating this model)"
   ]
  },
  {
   "cell_type": "code",
   "execution_count": 23,
   "id": "bd035ac6",
   "metadata": {},
   "outputs": [
    {
     "name": "stdout",
     "output_type": "stream",
     "text": [
      "baseline train accuracy: 73.47%\n",
      "baseline validate accuracy: 73.45%\n",
      "baseline test accuracy: 73.46%\n"
     ]
    }
   ],
   "source": [
    "baseline_accuracy = (train.has_churn == train.baseline).mean()\n",
    "print(f'baseline train accuracy: {baseline_accuracy:.2%}')\n",
    "\n",
    "baseline_accuracy = (validate.has_churn == validate.baseline).mean()\n",
    "print(f'baseline validate accuracy: {baseline_accuracy:.2%}')\n",
    "\n",
    "baseline_accuracy = (test.has_churn == test.baseline).mean()\n",
    "print(f'baseline test accuracy: {baseline_accuracy:.2%}')"
   ]
  },
  {
   "cell_type": "code",
   "execution_count": 24,
   "id": "14cad2d1",
   "metadata": {},
   "outputs": [],
   "source": [
    "# First model test using decision tree\n",
    "# Second Random Forest\n",
    "# KNN"
   ]
  },
  {
   "cell_type": "code",
   "execution_count": 25,
   "id": "7d83086d",
   "metadata": {},
   "outputs": [],
   "source": [
    "X_train = train.drop(columns = ['customer_id','gender', 'partner', 'dependents', 'phone_service', 'multiple_lines', 'online_security',\n",
    "                              'online_backup', 'device_protection', 'tech_support', 'streaming_tv', 'streaming_movies',\n",
    "                              'paperless_billing', 'churn', 'contract_type', 'internet_service_type', 'payment_type',\n",
    "                              'has_churn', 'baseline'])\n",
    "y_train = train.has_churn\n",
    "\n",
    "\n",
    "X_validate = validate.drop(columns = ['customer_id','gender', 'partner', 'dependents', 'phone_service', 'multiple_lines', 'online_security',\n",
    "                              'online_backup', 'device_protection', 'tech_support', 'streaming_tv', 'streaming_movies',\n",
    "                              'paperless_billing', 'churn', 'contract_type', 'internet_service_type', 'payment_type',\n",
    "                              'has_churn', 'baseline'])\n",
    "y_validate = validate.has_churn\n",
    "\n",
    "X_test = test.drop(columns=['customer_id','gender', 'partner', 'dependents', 'phone_service', 'multiple_lines', 'online_security',\n",
    "                              'online_backup', 'device_protection', 'tech_support', 'streaming_tv', 'streaming_movies',\n",
    "                              'paperless_billing', 'churn', 'contract_type', 'internet_service_type', 'payment_type',\n",
    "                              'has_churn', 'baseline'])\n",
    "y_test = test.has_churn"
   ]
  },
  {
   "cell_type": "markdown",
   "id": "ab448302",
   "metadata": {},
   "source": [
    "# Decision Tree Model Creation"
   ]
  },
  {
   "cell_type": "code",
   "execution_count": 26,
   "id": "fc432aa4",
   "metadata": {},
   "outputs": [],
   "source": [
    "clf = DecisionTreeClassifier(max_depth=3, random_state= 123)\n",
    "\n",
    "clf = clf.fit(X_train, y_train)"
   ]
  },
  {
   "cell_type": "code",
   "execution_count": 27,
   "id": "3f7e669b",
   "metadata": {},
   "outputs": [],
   "source": [
    "clf2 = DecisionTreeClassifier(max_depth=5, random_state= 123)\n",
    "\n",
    "clf2 = clf2.fit(X_train, y_train)"
   ]
  },
  {
   "cell_type": "code",
   "execution_count": 28,
   "id": "443c2a7a",
   "metadata": {},
   "outputs": [],
   "source": [
    "#y_pred = clf.predict(X_train)\n",
    "#y_pred2 = clf2.predict(X_train)\n",
    "#y_pred_proba = clf.predict_proba(X_train)\n",
    "#y_pred_proba2 = clf2.predict_proba(X_train)"
   ]
  },
  {
   "cell_type": "code",
   "execution_count": 32,
   "id": "c7716969",
   "metadata": {},
   "outputs": [
    {
     "name": "stdout",
     "output_type": "stream",
     "text": [
      "Accuracy of Decision Tree classifier on training set: 0.79\n"
     ]
    }
   ],
   "source": [
    "print('Accuracy of Decision Tree classifier on training set: {:.2f}'\n",
    "      .format(clf.score(X_train, y_train)))"
   ]
  },
  {
   "cell_type": "code",
   "execution_count": 33,
   "id": "e0d0284f",
   "metadata": {},
   "outputs": [
    {
     "name": "stdout",
     "output_type": "stream",
     "text": [
      "Accuracy of Decision Tree classifier on training set: 0.80\n"
     ]
    }
   ],
   "source": [
    "print('Accuracy of Decision Tree classifier on training set: {:.2f}'\n",
    "      .format(clf2.score(X_train, y_train)))"
   ]
  },
  {
   "cell_type": "markdown",
   "id": "5835a3e0",
   "metadata": {},
   "source": [
    "# Random Forest Model Creation"
   ]
  },
  {
   "cell_type": "code",
   "execution_count": 34,
   "id": "43df659a",
   "metadata": {},
   "outputs": [],
   "source": [
    "ranf = RandomForestClassifier(max_depth=10, min_samples_leaf=1, random_state= 123)\n",
    "ranf = ranf.fit(X_train, y_train)"
   ]
  },
  {
   "cell_type": "code",
   "execution_count": 35,
   "id": "a6b0ea08",
   "metadata": {},
   "outputs": [],
   "source": [
    "ranf2 = RandomForestClassifier(max_depth=5, min_samples_leaf=3, random_state= 123)\n",
    "ranf2 = ranf2.fit(X_train, y_train)"
   ]
  },
  {
   "cell_type": "code",
   "execution_count": 36,
   "id": "359eb87a",
   "metadata": {},
   "outputs": [],
   "source": [
    "y_pred = ranf.predict(X_train)\n",
    "\n",
    "y_pred2 = ranf2.predict(X_train)"
   ]
  },
  {
   "cell_type": "code",
   "execution_count": 37,
   "id": "4cfb0ab4",
   "metadata": {},
   "outputs": [],
   "source": [
    "y_pred_proba = ranf.predict_proba(X_train)\n",
    "\n",
    "y_pred_proba2 = ranf2.predict_proba(X_train)"
   ]
  },
  {
   "cell_type": "code",
   "execution_count": 38,
   "id": "2198ce8b",
   "metadata": {},
   "outputs": [
    {
     "name": "stdout",
     "output_type": "stream",
     "text": [
      "Accuracy of random forest #1 classifier on training set: 0.89\n"
     ]
    }
   ],
   "source": [
    "print('Accuracy of random forest #1 classifier on training set: {:.2f}'\n",
    "     .format(ranf.score(X_train, y_train)))"
   ]
  },
  {
   "cell_type": "code",
   "execution_count": 39,
   "id": "6206eb34",
   "metadata": {},
   "outputs": [
    {
     "name": "stdout",
     "output_type": "stream",
     "text": [
      "Accuracy of random forest #2 classifier on training set: 0.80\n"
     ]
    }
   ],
   "source": [
    "print('Accuracy of random forest #2 classifier on training set: {:.2f}'\n",
    "     .format(ranf2.score(X_train, y_train)))"
   ]
  },
  {
   "cell_type": "markdown",
   "id": "ef186e34",
   "metadata": {},
   "source": [
    "# KNN Model Creation"
   ]
  },
  {
   "cell_type": "code",
   "execution_count": 40,
   "id": "20641781",
   "metadata": {},
   "outputs": [],
   "source": [
    "knn1 = KNeighborsClassifier()\n",
    "\n",
    "knn1 = knn1.fit(X_train, y_train)\n",
    "\n",
    "\n",
    "knn2 = KNeighborsClassifier(3)\n",
    "\n",
    "knn2 = knn2.fit(X_train, y_train)"
   ]
  },
  {
   "cell_type": "code",
   "execution_count": 41,
   "id": "96ff2ddc",
   "metadata": {},
   "outputs": [],
   "source": [
    "#y_pred = knn1.predict(X_train)\n",
    "#y_pred2 = knn2.predict(X_train)"
   ]
  },
  {
   "cell_type": "code",
   "execution_count": 42,
   "id": "966d1e63",
   "metadata": {},
   "outputs": [
    {
     "name": "stdout",
     "output_type": "stream",
     "text": [
      "The #1 KNN model has an accuracy:  0.834\n",
      "The #2 KNN model has an accuracy:  0.853\n"
     ]
    }
   ],
   "source": [
    "accuracy1 = knn1.score(X_train, y_train)\n",
    "print(\"The #1 KNN model has an accuracy: \", round(accuracy1, 3))\n",
    "\n",
    "\n",
    "accuracy2 = knn2.score(X_train, y_train)\n",
    "print(\"The #2 KNN model has an accuracy: \", round(accuracy2, 3))"
   ]
  },
  {
   "cell_type": "markdown",
   "id": "ce986f70",
   "metadata": {},
   "source": [
    "#### Best Accuracy Scores"
   ]
  },
  {
   "cell_type": "code",
   "execution_count": 43,
   "id": "f093ba91",
   "metadata": {},
   "outputs": [
    {
     "name": "stdout",
     "output_type": "stream",
     "text": [
      "Accuracy of Decision Tree classifier on training set: 0.80\n",
      "-------------------------------------------------------\n",
      "-------------------------------------------------------\n",
      "\n",
      "Accuracy of random forest classifier on training set: 0.89\n",
      "-------------------------------------------------------\n",
      "-------------------------------------------------------\n",
      "\n",
      "The #2 KNN model has an accuracy:  0.853\n",
      "-------------------------------------------------------\n",
      "-------------------------------------------------------\n",
      "\n",
      "Knn and Random forest best testing models!\n"
     ]
    }
   ],
   "source": [
    "print('Accuracy of Decision Tree classifier on training set: {:.2f}'\n",
    "      .format(clf2.score(X_train, y_train)))\n",
    "print('-------------------------------------------------------')\n",
    "print('-------------------------------------------------------\\n')\n",
    "\n",
    "print('Accuracy of random forest classifier on training set: {:.2f}'\n",
    "     .format(ranf.score(X_train, y_train)))\n",
    "print('-------------------------------------------------------')\n",
    "print('-------------------------------------------------------\\n')\n",
    "accuracy2 = knn2.score(X_train, y_train)\n",
    "print(\"The #2 KNN model has an accuracy: \", round(accuracy2, 3))\n",
    "\n",
    "print('-------------------------------------------------------')\n",
    "print('-------------------------------------------------------\\n')\n",
    "print('Knn and Random forest best testing models!')"
   ]
  },
  {
   "cell_type": "markdown",
   "id": "7db3580f",
   "metadata": {},
   "source": [
    "# Validation Testing"
   ]
  },
  {
   "cell_type": "markdown",
   "id": "1628be52",
   "metadata": {},
   "source": [
    "#### Decision Tree Validation"
   ]
  },
  {
   "cell_type": "code",
   "execution_count": 44,
   "id": "ec633f34",
   "metadata": {},
   "outputs": [
    {
     "name": "stdout",
     "output_type": "stream",
     "text": [
      "              precision    recall  f1-score   support\n",
      "\n",
      "           0       0.85      0.84      0.85      1242\n",
      "           1       0.57      0.58      0.57       449\n",
      "\n",
      "    accuracy                           0.77      1691\n",
      "   macro avg       0.71      0.71      0.71      1691\n",
      "weighted avg       0.77      0.77      0.77      1691\n",
      "\n"
     ]
    }
   ],
   "source": [
    "# Produce y_predictions that come from the X_validate\n",
    "y_pred = clf2.predict(X_validate)\n",
    "\n",
    "# Compare actual y values (from validate) to predicted y_values from the model run on X_validate\n",
    "print(classification_report(y_validate, y_pred))\n"
   ]
  },
  {
   "cell_type": "code",
   "execution_count": 45,
   "id": "62e8db60",
   "metadata": {},
   "outputs": [
    {
     "name": "stdout",
     "output_type": "stream",
     "text": [
      "Accuracy of Decision Tree classifier on validate set: 0.77\n"
     ]
    }
   ],
   "source": [
    "print('Accuracy of Decision Tree classifier on validate set: {:.2f}'\n",
    "     .format(clf2.score(X_validate, y_validate)))"
   ]
  },
  {
   "cell_type": "markdown",
   "id": "cb8f46dd",
   "metadata": {},
   "source": [
    "#### Rand Forest Validation"
   ]
  },
  {
   "cell_type": "code",
   "execution_count": 46,
   "id": "3d97d230",
   "metadata": {},
   "outputs": [
    {
     "name": "stdout",
     "output_type": "stream",
     "text": [
      "              precision    recall  f1-score   support\n",
      "\n",
      "           0       0.83      0.91      0.87      1242\n",
      "           1       0.66      0.50      0.57       449\n",
      "\n",
      "    accuracy                           0.80      1691\n",
      "   macro avg       0.74      0.70      0.72      1691\n",
      "weighted avg       0.79      0.80      0.79      1691\n",
      "\n"
     ]
    }
   ],
   "source": [
    "# Produce y_predictions that come from the X_validate\n",
    "y_pred = ranf.predict(X_validate)\n",
    "\n",
    "# Compare actual y values (from validate) to predicted y_values from the model run on X_validate\n",
    "print(classification_report(y_validate, y_pred))"
   ]
  },
  {
   "cell_type": "code",
   "execution_count": 47,
   "id": "05223810",
   "metadata": {},
   "outputs": [
    {
     "name": "stdout",
     "output_type": "stream",
     "text": [
      "Accuracy of random forest classifier on Validation set: 0.80\n"
     ]
    }
   ],
   "source": [
    "print('Accuracy of random forest classifier on Validation set: {:.2f}'\n",
    "     .format(ranf.score(X_validate, y_validate)))"
   ]
  },
  {
   "cell_type": "markdown",
   "id": "ad6d843b",
   "metadata": {},
   "source": [
    "#### KNN Validation"
   ]
  },
  {
   "cell_type": "code",
   "execution_count": 48,
   "id": "9f71f841",
   "metadata": {},
   "outputs": [
    {
     "name": "stdout",
     "output_type": "stream",
     "text": [
      "              precision    recall  f1-score   support\n",
      "\n",
      "           0       0.82      0.87      0.84      1242\n",
      "           1       0.56      0.47      0.51       449\n",
      "\n",
      "    accuracy                           0.76      1691\n",
      "   macro avg       0.69      0.67      0.67      1691\n",
      "weighted avg       0.75      0.76      0.75      1691\n",
      "\n"
     ]
    }
   ],
   "source": [
    "# Produce y_predictions that come from the X_validate\n",
    "y_pred = knn1.predict(X_validate)\n",
    "\n",
    "# Compare actual y values (from validate) to predicted y_values from the model run on X_validate\n",
    "print(classification_report(y_validate, y_pred))"
   ]
  },
  {
   "cell_type": "code",
   "execution_count": 49,
   "id": "3e167bd9",
   "metadata": {},
   "outputs": [
    {
     "name": "stdout",
     "output_type": "stream",
     "text": [
      "Accuracy of KNN classifier on Validate set: 0.76\n"
     ]
    }
   ],
   "source": [
    "print('Accuracy of KNN classifier on Validate set: {:.2f}'\n",
    "     .format(knn1.score(X_validate, y_validate)))"
   ]
  },
  {
   "cell_type": "markdown",
   "id": "b344b6c6",
   "metadata": {},
   "source": [
    "# Test Testing"
   ]
  },
  {
   "cell_type": "code",
   "execution_count": 50,
   "id": "9ff3f0a6",
   "metadata": {},
   "outputs": [
    {
     "name": "stdout",
     "output_type": "stream",
     "text": [
      "Accuracy of random forest classifier on test set: 0.81\n"
     ]
    }
   ],
   "source": [
    "print('Accuracy of random forest classifier on test set: {:.2f}'\n",
    "     .format(ranf.score(X_test, y_test)))"
   ]
  },
  {
   "cell_type": "code",
   "execution_count": 51,
   "id": "eb5a3815",
   "metadata": {},
   "outputs": [
    {
     "name": "stdout",
     "output_type": "stream",
     "text": [
      "              precision    recall  f1-score   support\n",
      "\n",
      "           0       0.85      0.90      0.87      1035\n",
      "           1       0.67      0.55      0.60       374\n",
      "\n",
      "    accuracy                           0.81      1409\n",
      "   macro avg       0.76      0.73      0.74      1409\n",
      "weighted avg       0.80      0.81      0.80      1409\n",
      "\n"
     ]
    }
   ],
   "source": [
    "# Produce y_predictions that come from the X_test\n",
    "y_pred = ranf.predict(X_test)\n",
    "\n",
    "# Compare actual y values (from Test) to predicted y_values from the model run on X_test\n",
    "print(classification_report(y_test, y_pred))"
   ]
  },
  {
   "cell_type": "code",
   "execution_count": 52,
   "id": "acb51f3c",
   "metadata": {},
   "outputs": [
    {
     "name": "stdout",
     "output_type": "stream",
     "text": [
      "[0.01756806 0.19445219 0.12545444 0.17101702 0.01931702 0.01532658\n",
      " 0.01533921 0.00531239 0.00541106 0.01605719 0.01077373 0.02797329\n",
      " 0.00749741 0.01831546 0.00791722 0.01415667 0.0072475  0.03355501\n",
      " 0.0079612  0.01374514 0.0108079  0.0132009  0.02609897 0.02599399\n",
      " 0.04625988 0.06471474 0.00691932 0.01194034 0.049468   0.01019818]\n"
     ]
    }
   ],
   "source": [
    "print(ranf.feature_importances_)"
   ]
  },
  {
   "cell_type": "code",
   "execution_count": 53,
   "id": "b6484ec3",
   "metadata": {},
   "outputs": [
    {
     "data": {
      "text/plain": [
       "Index(['senior_citizen', 'tenure', 'monthly_charges', 'total_charges',\n",
       "       'is_male', 'has_partner', 'has_dependent', 'phone_service_Yes',\n",
       "       'multiple_lines_No phone service', 'multiple_lines_Yes',\n",
       "       'online_security_No internet service', 'online_security_Yes',\n",
       "       'online_backup_No internet service', 'online_backup_Yes',\n",
       "       'device_protection_No internet service', 'device_protection_Yes',\n",
       "       'tech_support_No internet service', 'tech_support_Yes',\n",
       "       'streaming_tv_No internet service', 'streaming_tv_Yes',\n",
       "       'streaming_movies_No internet service', 'streaming_movies_Yes',\n",
       "       'paperless_billing_Yes', 'contract_type_One year',\n",
       "       'contract_type_Two year', 'internet_service_type_Fiber optic',\n",
       "       'internet_service_type_None', 'payment_type_Credit card (automatic)',\n",
       "       'payment_type_Electronic check', 'payment_type_Mailed check'],\n",
       "      dtype='object')"
      ]
     },
     "execution_count": 53,
     "metadata": {},
     "output_type": "execute_result"
    }
   ],
   "source": [
    "X_train.columns"
   ]
  },
  {
   "cell_type": "markdown",
   "id": "6259f8d7",
   "metadata": {},
   "source": [
    "# Key Takeaways"
   ]
  },
  {
   "cell_type": "markdown",
   "id": "cd283155",
   "metadata": {},
   "source": [
    "Starting with electric checking, fiber optics, being a senior citizen, and having a dependent have a large relationships for churn!\n",
    "\n",
    "During these tests we see that there a significant cause for churn with all these items based off statistical analysis tests/charts. When running through the algorithms to create the ML we find that random forest model is best suited for this job of finding churn, I'd say that with 80% accuracy that this random forest model will be able to detect churn with future unseen data."
   ]
  },
  {
   "cell_type": "markdown",
   "id": "ccd48904",
   "metadata": {},
   "source": [
    "# Recommendations"
   ]
  },
  {
   "cell_type": "markdown",
   "id": "e68d7b18",
   "metadata": {},
   "source": [
    "We see here that fiber optics and electric checking have a large cause of churn within this data set and my recommendation would be to further investigate the cause on these variables, we can also see through our ML using random forest we can use its 'feature_importance_' function to finder other ideal causes for churn by seeing there significance in finding other key churn values. We should create a team to investigate these high rates of churn detected by the model first starting with fiber optics and creating a new plan on handling churn as well as electric checking via creating new programs, incentives to help retain our customers."
   ]
  },
  {
   "cell_type": "markdown",
   "id": "2dba897d",
   "metadata": {},
   "source": [
    "# Next Time"
   ]
  },
  {
   "cell_type": "markdown",
   "id": "8dadda7b",
   "metadata": {},
   "source": [
    "As stated before we can use the model also see what it decided what are key features in determeing what causes to churn, I would like for next time to further investage those variables!"
   ]
  },
  {
   "cell_type": "code",
   "execution_count": null,
   "id": "b192319c",
   "metadata": {},
   "outputs": [],
   "source": []
  }
 ],
 "metadata": {
  "kernelspec": {
   "display_name": "Python 3",
   "language": "python",
   "name": "python3"
  },
  "language_info": {
   "codemirror_mode": {
    "name": "ipython",
    "version": 3
   },
   "file_extension": ".py",
   "mimetype": "text/x-python",
   "name": "python",
   "nbconvert_exporter": "python",
   "pygments_lexer": "ipython3",
   "version": "3.8.8"
  }
 },
 "nbformat": 4,
 "nbformat_minor": 5
}
