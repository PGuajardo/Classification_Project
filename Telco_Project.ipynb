{
 "cells": [
  {
   "cell_type": "markdown",
   "id": "82ff64e1",
   "metadata": {},
   "source": [
    "# Project Goals"
   ]
  },
  {
   "cell_type": "markdown",
   "id": "961bbab4",
   "metadata": {},
   "source": [
    "### 1) Find drivers key drivers for churn\n",
    "- Starting with electric checking\n",
    "- Second with fiber optics\n",
    "- Third senior citizen\n",
    "- Fourth with dependents\n",
    "\n",
    "### 2) Create a ML Model to predict churn using classification"
   ]
  },
  {
   "cell_type": "code",
   "execution_count": 1,
   "id": "2e8cb506",
   "metadata": {},
   "outputs": [],
   "source": [
    "import pandas as pd\n",
    "import seaborn as sns\n",
    "import scipy.stats as stats\n",
    "\n",
    "from sklearn.metrics import precision_score\n",
    "from sklearn.metrics import accuracy_score\n",
    "from sklearn.metrics import recall_score\n",
    "from sklearn.metrics import classification_report\n",
    "\n",
    "import env\n",
    "import acquireTelco\n",
    "import prepTelco\n",
    "\n",
    "from sklearn.model_selection import train_test_split\n",
    "\n",
    "from sklearn.tree import DecisionTreeClassifier\n",
    "from sklearn.ensemble import RandomForestClassifier\n",
    "from sklearn.neighbors import KNeighborsClassifier\n",
    "\n",
    "from sklearn.tree import export_graphviz\n",
    "from sklearn.metrics import confusion_matrix\n",
    "\n",
    "import matplotlib.pyplot as plt\n",
    "\n",
    "import graphviz\n",
    "from graphviz import Graph"
   ]
  },
  {
   "cell_type": "code",
   "execution_count": null,
   "id": "b35ee298",
   "metadata": {},
   "outputs": [],
   "source": [
    "# Here we take from our sql server, telco churn to acquire our data"
   ]
  },
  {
   "cell_type": "code",
   "execution_count": 2,
   "id": "08497caf",
   "metadata": {},
   "outputs": [],
   "source": [
    "telco_churn = acquireTelco.get_telco_data()\n",
    "telco_df = telco_churn.copy()"
   ]
  },
  {
   "cell_type": "code",
   "execution_count": 93,
   "id": "05a7db0d",
   "metadata": {},
   "outputs": [],
   "source": [
    "# Prep Telco has both my clean fuction and split function\n",
    "# We drop any duplicates need, change total charges to float type and encode all the variables needed to be encoded\n",
    "# We drop any extra data (payment, internet, contract type ID's) since we need only customer ID\n",
    "# Split the data 55, 25, 20 for train, validate, test"
   ]
  },
  {
   "cell_type": "code",
   "execution_count": 3,
   "id": "b2ac4212",
   "metadata": {},
   "outputs": [],
   "source": [
    "telco_df1 = prepTelco.clean_telco(telco_df)"
   ]
  },
  {
   "cell_type": "markdown",
   "id": "1a95381b",
   "metadata": {},
   "source": [
    "## We see here the amount of churn within this data set"
   ]
  },
  {
   "cell_type": "code",
   "execution_count": 4,
   "id": "f3588b69",
   "metadata": {},
   "outputs": [
    {
     "data": {
      "text/html": [
       "<div>\n",
       "<style scoped>\n",
       "    .dataframe tbody tr th:only-of-type {\n",
       "        vertical-align: middle;\n",
       "    }\n",
       "\n",
       "    .dataframe tbody tr th {\n",
       "        vertical-align: top;\n",
       "    }\n",
       "\n",
       "    .dataframe thead th {\n",
       "        text-align: right;\n",
       "    }\n",
       "</style>\n",
       "<table border=\"1\" class=\"dataframe\">\n",
       "  <thead>\n",
       "    <tr style=\"text-align: right;\">\n",
       "      <th>churn_Yes</th>\n",
       "      <th>0</th>\n",
       "      <th>1</th>\n",
       "    </tr>\n",
       "    <tr>\n",
       "      <th>churn</th>\n",
       "      <th></th>\n",
       "      <th></th>\n",
       "    </tr>\n",
       "  </thead>\n",
       "  <tbody>\n",
       "    <tr>\n",
       "      <th>No</th>\n",
       "      <td>5174</td>\n",
       "      <td>0</td>\n",
       "    </tr>\n",
       "    <tr>\n",
       "      <th>Yes</th>\n",
       "      <td>0</td>\n",
       "      <td>1869</td>\n",
       "    </tr>\n",
       "  </tbody>\n",
       "</table>\n",
       "</div>"
      ],
      "text/plain": [
       "churn_Yes     0     1\n",
       "churn                \n",
       "No         5174     0\n",
       "Yes           0  1869"
      ]
     },
     "execution_count": 4,
     "metadata": {},
     "output_type": "execute_result"
    }
   ],
   "source": [
    "pd.crosstab(telco_df1['churn'], telco_df1['churn_Yes'])"
   ]
  },
  {
   "cell_type": "code",
   "execution_count": 6,
   "id": "c7ed09b3",
   "metadata": {},
   "outputs": [],
   "source": [
    "train, validate, test = prepTelco.prep_telco(telco_df, 'churn')"
   ]
  },
  {
   "cell_type": "markdown",
   "id": "ec29bcd0",
   "metadata": {},
   "source": [
    "# Question 1: "
   ]
  },
  {
   "cell_type": "markdown",
   "id": "e035a834",
   "metadata": {},
   "source": [
    "### Is electric checking a large cause for churn?"
   ]
  },
  {
   "cell_type": "code",
   "execution_count": 86,
   "id": "b2289374",
   "metadata": {},
   "outputs": [
    {
     "data": {
      "text/html": [
       "<div>\n",
       "<style scoped>\n",
       "    .dataframe tbody tr th:only-of-type {\n",
       "        vertical-align: middle;\n",
       "    }\n",
       "\n",
       "    .dataframe tbody tr th {\n",
       "        vertical-align: top;\n",
       "    }\n",
       "\n",
       "    .dataframe thead th {\n",
       "        text-align: right;\n",
       "    }\n",
       "</style>\n",
       "<table border=\"1\" class=\"dataframe\">\n",
       "  <thead>\n",
       "    <tr style=\"text-align: right;\">\n",
       "      <th>payment_type</th>\n",
       "      <th>Bank transfer (automatic)</th>\n",
       "      <th>Credit card (automatic)</th>\n",
       "      <th>Electronic check</th>\n",
       "      <th>Mailed check</th>\n",
       "    </tr>\n",
       "    <tr>\n",
       "      <th>churn</th>\n",
       "      <th></th>\n",
       "      <th></th>\n",
       "      <th></th>\n",
       "      <th></th>\n",
       "    </tr>\n",
       "  </thead>\n",
       "  <tbody>\n",
       "    <tr>\n",
       "      <th>No</th>\n",
       "      <td>1286</td>\n",
       "      <td>1290</td>\n",
       "      <td>1294</td>\n",
       "      <td>1304</td>\n",
       "    </tr>\n",
       "    <tr>\n",
       "      <th>Yes</th>\n",
       "      <td>258</td>\n",
       "      <td>232</td>\n",
       "      <td>1071</td>\n",
       "      <td>308</td>\n",
       "    </tr>\n",
       "  </tbody>\n",
       "</table>\n",
       "</div>"
      ],
      "text/plain": [
       "payment_type  Bank transfer (automatic)  Credit card (automatic)  \\\n",
       "churn                                                              \n",
       "No                                 1286                     1290   \n",
       "Yes                                 258                      232   \n",
       "\n",
       "payment_type  Electronic check  Mailed check  \n",
       "churn                                         \n",
       "No                        1294          1304  \n",
       "Yes                       1071           308  "
      ]
     },
     "execution_count": 86,
     "metadata": {},
     "output_type": "execute_result"
    }
   ],
   "source": [
    "pd.crosstab(telco_churn['churn'], telco_churn['payment_type'])"
   ]
  },
  {
   "cell_type": "code",
   "execution_count": 74,
   "id": "a8133dc3",
   "metadata": {},
   "outputs": [
    {
     "data": {
      "text/plain": [
       "<AxesSubplot:title={'center':'Payment Type and their Churn Rate'}, xlabel='payment_type', ylabel='has_churn'>"
      ]
     },
     "execution_count": 74,
     "metadata": {},
     "output_type": "execute_result"
    },
    {
     "data": {
      "image/png": "[encoded data removed]",
      "text/plain": [
       "<Figure size 1080x576 with 1 Axes>"
      ]
     },
     "metadata": {
      "needs_background": "light"
     },
     "output_type": "display_data"
    }
   ],
   "source": [
    "plt.figure(figsize=(15,8))\n",
    "plt.title('Payment Type and their Churn Rate')\n",
    "sns.barplot(x = 'payment_type', y = 'has_churn', data = train)"
   ]
  },
  {
   "cell_type": "code",
   "execution_count": 85,
   "id": "18465dfa",
   "metadata": {},
   "outputs": [
    {
     "data": {
      "text/plain": [
       "<seaborn.axisgrid.FacetGrid at 0x7fcdd15a61f0>"
      ]
     },
     "execution_count": 85,
     "metadata": {},
     "output_type": "execute_result"
    },
    {
     "data": {
      "image/png": "[encoded data removed]",
      "text/plain": [
       "<Figure size 916x576 with 1 Axes>"
      ]
     },
     "metadata": {
      "needs_background": "light"
     },
     "output_type": "display_data"
    }
   ],
   "source": [
    "sns.displot(x = 'payment_type', data = telco_churn, hue = 'churn', alpha = 0.5, multiple = 'stack',\n",
    "            height=8, aspect=12/8)"
   ]
  },
  {
   "cell_type": "code",
   "execution_count": 76,
   "id": "8bfba02e",
   "metadata": {},
   "outputs": [],
   "source": [
    "observed = pd.crosstab(train['payment_type_Electronic check'], train.has_churn)"
   ]
  },
  {
   "cell_type": "code",
   "execution_count": 14,
   "id": "19fea71b",
   "metadata": {},
   "outputs": [],
   "source": [
    "chi, p, degrf, expected = stats.chi2_contingency(observed)"
   ]
  },
  {
   "cell_type": "code",
   "execution_count": 87,
   "id": "5a1c1bc3",
   "metadata": {},
   "outputs": [
    {
     "name": "stdout",
     "output_type": "stream",
     "text": [
      "Observed\n",
      "has_churn                         0    1\n",
      "payment_type_Electronic check           \n",
      "0                              2172  451\n",
      "1                               725  595\n",
      "--------------------------------------\n",
      "--------------------------------------\n",
      "Expected\n",
      "[[2030.76540705  733.23459295]\n",
      " [ 866.23459295  312.76540705]]\n",
      "--------------------------------------\n",
      "---\n",
      "\n",
      "chi^2 = 100.5470\n",
      "p     = 0.0000\n"
     ]
    }
   ],
   "source": [
    "print('Observed')\n",
    "print(observed)\n",
    "print(\"--------------------------------------\")\n",
    "print('--------------------------------------\\nExpected')\n",
    "print(expected)\n",
    "print(\"--------------------------------------\")\n",
    "print('---\\n')\n",
    "print(f'chi^2 = {chi:.4f}')\n",
    "print(f'p     = {p:.4f}')"
   ]
  },
  {
   "cell_type": "markdown",
   "id": "1fb1cef4",
   "metadata": {},
   "source": [
    "#### Answer: There is a relationship between eletric checking and churn!"
   ]
  },
  {
   "cell_type": "markdown",
   "id": "b390336c",
   "metadata": {},
   "source": [
    "# Question 2"
   ]
  },
  {
   "cell_type": "markdown",
   "id": "c4fb9ce3",
   "metadata": {},
   "source": [
    "#### Is internet internet service type(Fiber Optic) a cause for churn?"
   ]
  },
  {
   "cell_type": "code",
   "execution_count": 79,
   "id": "3871b2a7",
   "metadata": {},
   "outputs": [
    {
     "data": {
      "text/plain": [
       "<AxesSubplot:title={'center':'Internet Service Type and their Churn Rates'}, xlabel='internet_service_type', ylabel='has_churn'>"
      ]
     },
     "execution_count": 79,
     "metadata": {},
     "output_type": "execute_result"
    },
    {
     "data": {
      "image/png": "[encoded data removed]",
      "text/plain": [
       "<Figure size 1080x576 with 1 Axes>"
      ]
     },
     "metadata": {
      "needs_background": "light"
     },
     "output_type": "display_data"
    }
   ],
   "source": [
    "plt.figure(figsize=(15,8))\n",
    "plt.title('Internet Service Type and their Churn Rates')\n",
    "sns.barplot(x = 'internet_service_type', y = 'has_churn', data = train)"
   ]
  },
  {
   "cell_type": "code",
   "execution_count": 19,
   "id": "49899f14",
   "metadata": {},
   "outputs": [
    {
     "name": "stdout",
     "output_type": "stream",
     "text": [
      "Observed\n",
      "has_churn                             0    1\n",
      "internet_service_type_Fiber optic           \n",
      "0                                  1881  322\n",
      "1                                  1016  724\n",
      "--------------------------------------\n",
      "---\n",
      "Expected\n",
      "[[1618.58762364  584.41237636]\n",
      " [1278.41237636  461.58762364]]\n",
      "--------------------------------------\n",
      "---\n",
      "\n",
      "chi^2 = 362.0332\n",
      "p     = 0.0000\n"
     ]
    }
   ],
   "source": [
    "observed = pd.crosstab(train['internet_service_type_Fiber optic'], train.has_churn)\n",
    "chi, p, degrf, expected = stats.chi2_contingency(observed)\n",
    "\n",
    "print('Observed')\n",
    "print(observed)\n",
    "print(\"--------------------------------------\")\n",
    "print('---\\nExpected')\n",
    "print(expected)\n",
    "print(\"--------------------------------------\")\n",
    "print('---\\n')\n",
    "print(f'chi^2 = {chi:.4f}')\n",
    "print(f'p     = {p:.4f}')"
   ]
  },
  {
   "cell_type": "markdown",
   "id": "778736ae",
   "metadata": {},
   "source": [
    "#### Answer: There is a relationship between service type fiber optic and churn!"
   ]
  },
  {
   "cell_type": "markdown",
   "id": "9843cdc8",
   "metadata": {},
   "source": [
    "# Question 3:"
   ]
  },
  {
   "cell_type": "markdown",
   "id": "1fdcc486",
   "metadata": {},
   "source": [
    "#### Is being a senior citizen effect churn?"
   ]
  },
  {
   "cell_type": "code",
   "execution_count": 23,
   "id": "1f136c20",
   "metadata": {},
   "outputs": [
    {
     "data": {
      "text/plain": [
       "<AxesSubplot:xlabel='senior_citizen', ylabel='has_churn'>"
      ]
     },
     "execution_count": 23,
     "metadata": {},
     "output_type": "execute_result"
    },
    {
     "data": {
      "image/png": "[encoded data removed]",
      "text/plain": [
       "<Figure size 432x288 with 1 Axes>"
      ]
     },
     "metadata": {
      "needs_background": "light"
     },
     "output_type": "display_data"
    }
   ],
   "source": [
    "sns.barplot(x = 'senior_citizen', y = 'has_churn', data = train)"
   ]
  },
  {
   "cell_type": "code",
   "execution_count": 24,
   "id": "6d211206",
   "metadata": {},
   "outputs": [
    {
     "name": "stdout",
     "output_type": "stream",
     "text": [
      "Observed\n",
      "has_churn          0    1\n",
      "senior_citizen           \n",
      "0               2533  770\n",
      "1                364  276\n",
      "--------------------------------------\n",
      "---\n",
      "Expected\n",
      "[[2426.77935582  876.22064418]\n",
      " [ 470.22064418  169.77935582]]\n",
      "--------------------------------------\n",
      "---\n",
      "\n",
      "chi^2 = 106.9624\n",
      "p     = 0.0000\n"
     ]
    }
   ],
   "source": [
    "observed = pd.crosstab(train['senior_citizen'], train.has_churn)\n",
    "chi, p, degrf, expected = stats.chi2_contingency(observed)\n",
    "\n",
    "print('Observed')\n",
    "print(observed)\n",
    "print(\"--------------------------------------\")\n",
    "print('---\\nExpected')\n",
    "print(expected)\n",
    "print(\"--------------------------------------\")\n",
    "print('---\\n')\n",
    "print(f'chi^2 = {chi:.4f}')\n",
    "print(f'p     = {p:.4f}')"
   ]
  },
  {
   "cell_type": "markdown",
   "id": "8e7df45d",
   "metadata": {},
   "source": [
    "#### Answer: There is a relationship between senior citizen and churn"
   ]
  },
  {
   "cell_type": "markdown",
   "id": "8bfffd58",
   "metadata": {},
   "source": [
    "# Question 4:"
   ]
  },
  {
   "cell_type": "markdown",
   "id": "66e22500",
   "metadata": {},
   "source": [
    "#### Is having an dependent effect churn?"
   ]
  },
  {
   "cell_type": "code",
   "execution_count": 26,
   "id": "e69476ca",
   "metadata": {},
   "outputs": [
    {
     "data": {
      "text/plain": [
       "<AxesSubplot:xlabel='has_dependent', ylabel='has_churn'>"
      ]
     },
     "execution_count": 26,
     "metadata": {},
     "output_type": "execute_result"
    },
    {
     "data": {
      "image/png": "[encoded data removed]",
      "text/plain": [
       "<Figure size 432x288 with 1 Axes>"
      ]
     },
     "metadata": {
      "needs_background": "light"
     },
     "output_type": "display_data"
    }
   ],
   "source": [
    "sns.barplot(x = 'has_dependent', y = 'has_churn', data = train)"
   ]
  },
  {
   "cell_type": "code",
   "execution_count": 27,
   "id": "1a7db74c",
   "metadata": {},
   "outputs": [
    {
     "name": "stdout",
     "output_type": "stream",
     "text": [
      "Observed\n",
      "has_churn         0    1\n",
      "has_dependent           \n",
      "0              1903  861\n",
      "1               994  185\n",
      "--------------------------------------\n",
      "---\n",
      "Expected\n",
      "[[2030.76540705  733.23459295]\n",
      " [ 866.23459295  312.76540705]]\n",
      "--------------------------------------\n",
      "---\n",
      "\n",
      "chi^2 = 100.5470\n",
      "p     = 0.0000\n"
     ]
    }
   ],
   "source": [
    "observed = pd.crosstab(train['has_dependent'], train.has_churn)\n",
    "chi, p, degrf, expected = stats.chi2_contingency(observed)\n",
    "\n",
    "print('Observed')\n",
    "print(observed)\n",
    "print(\"--------------------------------------\")\n",
    "print('---\\nExpected')\n",
    "print(expected)\n",
    "print(\"--------------------------------------\")\n",
    "print('---\\n')\n",
    "print(f'chi^2 = {chi:.4f}')\n",
    "print(f'p     = {p:.4f}')"
   ]
  },
  {
   "cell_type": "markdown",
   "id": "6eb65e1c",
   "metadata": {},
   "source": [
    "Answer: There is a relationship between having a dependent and churn!"
   ]
  },
  {
   "cell_type": "markdown",
   "id": "c12753d1",
   "metadata": {},
   "source": [
    "# Decisioin Tree Model Creation"
   ]
  },
  {
   "cell_type": "code",
   "execution_count": 28,
   "id": "550b4e97",
   "metadata": {},
   "outputs": [],
   "source": [
    "train['baseline'] = 0\n",
    "\n",
    "validate['baseline'] = 0\n",
    "\n",
    "test['baseline'] = 0"
   ]
  },
  {
   "cell_type": "code",
   "execution_count": 29,
   "id": "bd035ac6",
   "metadata": {},
   "outputs": [
    {
     "name": "stdout",
     "output_type": "stream",
     "text": [
      "baseline train accuracy: 73.47%\n",
      "baseline validate accuracy: 73.45%\n",
      "baseline test accuracy: 73.46%\n"
     ]
    }
   ],
   "source": [
    "baseline_accuracy = (train.has_churn == train.baseline).mean()\n",
    "print(f'baseline train accuracy: {baseline_accuracy:.2%}')\n",
    "\n",
    "baseline_accuracy = (validate.has_churn == validate.baseline).mean()\n",
    "print(f'baseline validate accuracy: {baseline_accuracy:.2%}')\n",
    "\n",
    "baseline_accuracy = (test.has_churn == test.baseline).mean()\n",
    "print(f'baseline test accuracy: {baseline_accuracy:.2%}')"
   ]
  },
  {
   "cell_type": "code",
   "execution_count": 89,
   "id": "14cad2d1",
   "metadata": {},
   "outputs": [],
   "source": [
    "# First model test using decision tree\n",
    "# Second Random Forest\n",
    "# KNN"
   ]
  },
  {
   "cell_type": "code",
   "execution_count": 31,
   "id": "7d83086d",
   "metadata": {},
   "outputs": [],
   "source": [
    "X_train = train.drop(columns = ['customer_id','gender', 'partner', 'dependents', 'phone_service', 'multiple_lines', 'online_security',\n",
    "                              'online_backup', 'device_protection', 'tech_support', 'streaming_tv', 'streaming_movies',\n",
    "                              'paperless_billing', 'churn', 'contract_type', 'internet_service_type', 'payment_type',\n",
    "                              'has_churn', 'baseline'])\n",
    "y_train = train.has_churn\n",
    "\n",
    "\n",
    "X_validate = validate.drop(columns = ['customer_id','gender', 'partner', 'dependents', 'phone_service', 'multiple_lines', 'online_security',\n",
    "                              'online_backup', 'device_protection', 'tech_support', 'streaming_tv', 'streaming_movies',\n",
    "                              'paperless_billing', 'churn', 'contract_type', 'internet_service_type', 'payment_type',\n",
    "                              'has_churn', 'baseline'])\n",
    "y_validate = validate.has_churn\n",
    "\n",
    "X_test = test.drop(columns=['customer_id','gender', 'partner', 'dependents', 'phone_service', 'multiple_lines', 'online_security',\n",
    "                              'online_backup', 'device_protection', 'tech_support', 'streaming_tv', 'streaming_movies',\n",
    "                              'paperless_billing', 'churn', 'contract_type', 'internet_service_type', 'payment_type',\n",
    "                              'has_churn', 'baseline'])\n",
    "y_test = test.has_churn"
   ]
  },
  {
   "cell_type": "code",
   "execution_count": 32,
   "id": "fc432aa4",
   "metadata": {},
   "outputs": [],
   "source": [
    "clf = DecisionTreeClassifier(max_depth=3, random_state= 123)\n",
    "\n",
    "clf = clf.fit(X_train, y_train)"
   ]
  },
  {
   "cell_type": "code",
   "execution_count": 33,
   "id": "3f7e669b",
   "metadata": {},
   "outputs": [],
   "source": [
    "clf2 = DecisionTreeClassifier(max_depth=5, random_state= 123)\n",
    "\n",
    "clf2 = clf2.fit(X_train, y_train)"
   ]
  },
  {
   "cell_type": "code",
   "execution_count": 34,
   "id": "443c2a7a",
   "metadata": {},
   "outputs": [],
   "source": [
    "y_pred = clf.predict(X_train)"
   ]
  },
  {
   "cell_type": "code",
   "execution_count": 35,
   "id": "6f652c9d",
   "metadata": {},
   "outputs": [],
   "source": [
    "y_pred2 = clf2.predict(X_train)"
   ]
  },
  {
   "cell_type": "code",
   "execution_count": 36,
   "id": "aecd7d03",
   "metadata": {},
   "outputs": [],
   "source": [
    "y_pred_proba = clf.predict_proba(X_train)"
   ]
  },
  {
   "cell_type": "code",
   "execution_count": 37,
   "id": "b0e9ab03",
   "metadata": {},
   "outputs": [],
   "source": [
    "y_pred_proba2 = clf2.predict_proba(X_train)"
   ]
  },
  {
   "cell_type": "code",
   "execution_count": 42,
   "id": "92580bcc",
   "metadata": {},
   "outputs": [
    {
     "name": "stdout",
     "output_type": "stream",
     "text": [
      "              precision    recall  f1-score   support\n",
      "\n",
      "           0       0.80      0.95      0.87      2897\n",
      "           1       0.71      0.36      0.48      1046\n",
      "\n",
      "    accuracy                           0.79      3943\n",
      "   macro avg       0.76      0.65      0.67      3943\n",
      "weighted avg       0.78      0.79      0.77      3943\n",
      "\n"
     ]
    }
   ],
   "source": [
    "print(classification_report(y_train, y_pred))"
   ]
  },
  {
   "cell_type": "code",
   "execution_count": 43,
   "id": "cf8fc52a",
   "metadata": {},
   "outputs": [
    {
     "name": "stdout",
     "output_type": "stream",
     "text": [
      "              precision    recall  f1-score   support\n",
      "\n",
      "           0       0.86      0.87      0.87      2897\n",
      "           1       0.63      0.60      0.62      1046\n",
      "\n",
      "    accuracy                           0.80      3943\n",
      "   macro avg       0.75      0.74      0.74      3943\n",
      "weighted avg       0.80      0.80      0.80      3943\n",
      "\n"
     ]
    }
   ],
   "source": [
    "print(classification_report(y_train, y_pred2))"
   ]
  },
  {
   "cell_type": "code",
   "execution_count": 38,
   "id": "c7716969",
   "metadata": {},
   "outputs": [
    {
     "name": "stdout",
     "output_type": "stream",
     "text": [
      "Accuracy of Decision Tree classifier on training set: 0.79\n"
     ]
    }
   ],
   "source": [
    "print('Accuracy of Decision Tree classifier on training set: {:.2f}'\n",
    "      .format(clf.score(X_train, y_train)))"
   ]
  },
  {
   "cell_type": "code",
   "execution_count": 39,
   "id": "e0d0284f",
   "metadata": {},
   "outputs": [
    {
     "name": "stdout",
     "output_type": "stream",
     "text": [
      "Accuracy of Decision Tree classifier on training set: 0.80\n"
     ]
    }
   ],
   "source": [
    "print('Accuracy of Decision Tree classifier on training set: {:.2f}'\n",
    "      .format(clf2.score(X_train, y_train)))"
   ]
  },
  {
   "cell_type": "markdown",
   "id": "5835a3e0",
   "metadata": {},
   "source": [
    "# Random Forest Model Creation"
   ]
  },
  {
   "cell_type": "code",
   "execution_count": 44,
   "id": "43df659a",
   "metadata": {},
   "outputs": [],
   "source": [
    "ranf = RandomForestClassifier(max_depth=10, min_samples_leaf=1, random_state= 123)\n",
    "ranf = ranf.fit(X_train, y_train)"
   ]
  },
  {
   "cell_type": "code",
   "execution_count": 45,
   "id": "a6b0ea08",
   "metadata": {},
   "outputs": [],
   "source": [
    "ranf2 = RandomForestClassifier(max_depth=5, min_samples_leaf=3, random_state= 123)\n",
    "ranf2 = ranf2.fit(X_train, y_train)"
   ]
  },
  {
   "cell_type": "code",
   "execution_count": 46,
   "id": "359eb87a",
   "metadata": {},
   "outputs": [],
   "source": [
    "y_pred = ranf.predict(X_train)\n",
    "\n",
    "y_pred2 = ranf2.predict(X_train)"
   ]
  },
  {
   "cell_type": "code",
   "execution_count": 47,
   "id": "4cfb0ab4",
   "metadata": {},
   "outputs": [],
   "source": [
    "y_pred_proba = ranf.predict_proba(X_train)\n",
    "\n",
    "y_pred_proba2 = ranf2.predict_proba(X_train)"
   ]
  },
  {
   "cell_type": "code",
   "execution_count": 50,
   "id": "260556df",
   "metadata": {},
   "outputs": [
    {
     "name": "stdout",
     "output_type": "stream",
     "text": [
      "Random Forest Model #1\n",
      "---------------------------------------------------------\n",
      "---------------------------------------------------------\n",
      "\n",
      "[[2768  129]\n",
      " [ 303  743]]\n",
      "---------------------------------------------------------\n",
      "---------------------------------------------------------\n",
      "\n",
      "              precision    recall  f1-score   support\n",
      "\n",
      "           0       0.90      0.96      0.93      2897\n",
      "           1       0.85      0.71      0.77      1046\n",
      "\n",
      "    accuracy                           0.89      3943\n",
      "   macro avg       0.88      0.83      0.85      3943\n",
      "weighted avg       0.89      0.89      0.89      3943\n",
      "\n",
      "\n",
      "\n",
      "Random Forest Model #2\n",
      "---------------------------------------------------------\n",
      "---------------------------------------------------------\n",
      "\n",
      "[[2725  172]\n",
      " [ 613  433]]\n",
      "---------------------------------------------------------\n",
      "---------------------------------------------------------\n",
      "\n",
      "              precision    recall  f1-score   support\n",
      "\n",
      "           0       0.82      0.94      0.87      2897\n",
      "           1       0.72      0.41      0.52      1046\n",
      "\n",
      "    accuracy                           0.80      3943\n",
      "   macro avg       0.77      0.68      0.70      3943\n",
      "weighted avg       0.79      0.80      0.78      3943\n",
      "\n"
     ]
    }
   ],
   "source": [
    "print(\"Random Forest Model #1\")\n",
    "print(\"---------------------------------------------------------\")\n",
    "print(\"---------------------------------------------------------\\n\")\n",
    "print(confusion_matrix(y_train, y_pred))\n",
    "\n",
    "print(\"---------------------------------------------------------\")\n",
    "print(\"---------------------------------------------------------\\n\")\n",
    "print(classification_report(y_train, y_pred))\n",
    "\n",
    "\n",
    "print(\"\\n\\nRandom Forest Model #2\")\n",
    "print(\"---------------------------------------------------------\")\n",
    "print(\"---------------------------------------------------------\\n\")\n",
    "print(confusion_matrix(y_train, y_pred2))\n",
    "\n",
    "print(\"---------------------------------------------------------\")\n",
    "print(\"---------------------------------------------------------\\n\")\n",
    "print(classification_report(y_train, y_pred2))"
   ]
  },
  {
   "cell_type": "code",
   "execution_count": 48,
   "id": "2198ce8b",
   "metadata": {},
   "outputs": [
    {
     "name": "stdout",
     "output_type": "stream",
     "text": [
      "Accuracy of random forest classifier on training set: 0.89\n"
     ]
    }
   ],
   "source": [
    "print('Accuracy of random forest classifier on training set: {:.2f}'\n",
    "     .format(ranf.score(X_train, y_train)))"
   ]
  },
  {
   "cell_type": "code",
   "execution_count": 49,
   "id": "6206eb34",
   "metadata": {},
   "outputs": [
    {
     "name": "stdout",
     "output_type": "stream",
     "text": [
      "Accuracy of random forest classifier on training set: 0.80\n"
     ]
    }
   ],
   "source": [
    "print('Accuracy of random forest classifier on training set: {:.2f}'\n",
    "     .format(ranf2.score(X_train, y_train)))"
   ]
  },
  {
   "cell_type": "markdown",
   "id": "ef186e34",
   "metadata": {},
   "source": [
    "# KNN Model Creation"
   ]
  },
  {
   "cell_type": "code",
   "execution_count": 51,
   "id": "20641781",
   "metadata": {},
   "outputs": [],
   "source": [
    "knn1 = KNeighborsClassifier()\n",
    "\n",
    "knn1 = knn1.fit(X_train, y_train)\n",
    "\n",
    "\n",
    "knn2 = KNeighborsClassifier(3)\n",
    "\n",
    "knn2 = knn2.fit(X_train, y_train)"
   ]
  },
  {
   "cell_type": "code",
   "execution_count": 52,
   "id": "96ff2ddc",
   "metadata": {},
   "outputs": [],
   "source": [
    "y_pred = knn1.predict(X_train)\n",
    "\n",
    "y_pred2 = knn2.predict(X_train)"
   ]
  },
  {
   "cell_type": "code",
   "execution_count": 54,
   "id": "565853dd",
   "metadata": {},
   "outputs": [
    {
     "name": "stdout",
     "output_type": "stream",
     "text": [
      "KNN Model #1\n",
      "---------------------------------------------------------\n",
      "---------------------------------------------------------\n",
      "\n",
      "[[2685  212]\n",
      " [ 441  605]]\n",
      "---------------------------------------------------------\n",
      "---------------------------------------------------------\n",
      "\n",
      "              precision    recall  f1-score   support\n",
      "\n",
      "           0       0.86      0.93      0.89      2897\n",
      "           1       0.74      0.58      0.65      1046\n",
      "\n",
      "    accuracy                           0.83      3943\n",
      "   macro avg       0.80      0.75      0.77      3943\n",
      "weighted avg       0.83      0.83      0.83      3943\n",
      "\n",
      "\n",
      "\n",
      "KNN Model #2\n",
      "---------------------------------------------------------\n",
      "---------------------------------------------------------\n",
      "\n",
      "[[2691  206]\n",
      " [ 374  672]]\n",
      "---------------------------------------------------------\n",
      "---------------------------------------------------------\n",
      "\n",
      "              precision    recall  f1-score   support\n",
      "\n",
      "           0       0.88      0.93      0.90      2897\n",
      "           1       0.77      0.64      0.70      1046\n",
      "\n",
      "    accuracy                           0.85      3943\n",
      "   macro avg       0.82      0.79      0.80      3943\n",
      "weighted avg       0.85      0.85      0.85      3943\n",
      "\n"
     ]
    }
   ],
   "source": [
    "print(\"KNN Model #1\")\n",
    "print(\"---------------------------------------------------------\")\n",
    "print(\"---------------------------------------------------------\\n\")\n",
    "print(confusion_matrix(y_train, y_pred))\n",
    "\n",
    "print(\"---------------------------------------------------------\")\n",
    "print(\"---------------------------------------------------------\\n\")\n",
    "print(classification_report(y_train, y_pred))\n",
    "\n",
    "\n",
    "print(\"\\n\\nKNN Model #2\")\n",
    "print(\"---------------------------------------------------------\")\n",
    "print(\"---------------------------------------------------------\\n\")\n",
    "print(confusion_matrix(y_train, y_pred2))\n",
    "\n",
    "print(\"---------------------------------------------------------\")\n",
    "print(\"---------------------------------------------------------\\n\")\n",
    "print(classification_report(y_train, y_pred2))"
   ]
  },
  {
   "cell_type": "code",
   "execution_count": 53,
   "id": "966d1e63",
   "metadata": {},
   "outputs": [
    {
     "name": "stdout",
     "output_type": "stream",
     "text": [
      "This is the accuracy:  0.834\n",
      "This is the accuracy:  0.853\n"
     ]
    }
   ],
   "source": [
    "accuracy1 = knn1.score(X_train, y_train)\n",
    "print(\"This is the accuracy: \", round(accuracy1, 3))\n",
    "\n",
    "\n",
    "accuracy2 = knn2.score(X_train, y_train)\n",
    "print(\"This is the accuracy: \", round(accuracy2, 3))"
   ]
  },
  {
   "cell_type": "markdown",
   "id": "7db3580f",
   "metadata": {},
   "source": [
    "# Validation Testing"
   ]
  },
  {
   "cell_type": "markdown",
   "id": "54c2e15a",
   "metadata": {},
   "source": [
    "#### Decision Tree Validation"
   ]
  },
  {
   "cell_type": "code",
   "execution_count": 55,
   "id": "62e8db60",
   "metadata": {},
   "outputs": [
    {
     "name": "stdout",
     "output_type": "stream",
     "text": [
      "Accuracy of Decision Tree classifier on validate set: 0.77\n"
     ]
    }
   ],
   "source": [
    "print('Accuracy of Decision Tree classifier on validate set: {:.2f}'\n",
    "     .format(clf2.score(X_validate, y_validate)))"
   ]
  },
  {
   "cell_type": "code",
   "execution_count": 56,
   "id": "ec633f34",
   "metadata": {},
   "outputs": [
    {
     "name": "stdout",
     "output_type": "stream",
     "text": [
      "              precision    recall  f1-score   support\n",
      "\n",
      "           0       0.85      0.84      0.85      1242\n",
      "           1       0.57      0.58      0.57       449\n",
      "\n",
      "    accuracy                           0.77      1691\n",
      "   macro avg       0.71      0.71      0.71      1691\n",
      "weighted avg       0.77      0.77      0.77      1691\n",
      "\n"
     ]
    }
   ],
   "source": [
    "# Produce y_predictions that come from the X_validate\n",
    "y_pred = clf2.predict(X_validate)\n",
    "\n",
    "# Compare actual y values (from validate) to predicted y_values from the model run on X_validate\n",
    "print(classification_report(y_validate, y_pred))\n"
   ]
  },
  {
   "cell_type": "markdown",
   "id": "cb8f46dd",
   "metadata": {},
   "source": [
    "#### Rand Forest Validation"
   ]
  },
  {
   "cell_type": "code",
   "execution_count": 58,
   "id": "3d97d230",
   "metadata": {},
   "outputs": [
    {
     "name": "stdout",
     "output_type": "stream",
     "text": [
      "              precision    recall  f1-score   support\n",
      "\n",
      "           0       0.83      0.91      0.87      1242\n",
      "           1       0.66      0.50      0.57       449\n",
      "\n",
      "    accuracy                           0.80      1691\n",
      "   macro avg       0.74      0.70      0.72      1691\n",
      "weighted avg       0.79      0.80      0.79      1691\n",
      "\n"
     ]
    }
   ],
   "source": [
    "# Produce y_predictions that come from the X_validate\n",
    "y_pred = ranf.predict(X_validate)\n",
    "\n",
    "# Compare actual y values (from validate) to predicted y_values from the model run on X_validate\n",
    "print(classification_report(y_validate, y_pred))"
   ]
  },
  {
   "cell_type": "code",
   "execution_count": 90,
   "id": "05223810",
   "metadata": {},
   "outputs": [
    {
     "name": "stdout",
     "output_type": "stream",
     "text": [
      "Accuracy of random forest classifier on Validation set: 0.80\n"
     ]
    }
   ],
   "source": [
    "print('Accuracy of random forest classifier on Validation set: {:.2f}'\n",
    "     .format(ranf.score(X_validate, y_validate)))"
   ]
  },
  {
   "cell_type": "markdown",
   "id": "ad6d843b",
   "metadata": {},
   "source": [
    "#### KNN Validation"
   ]
  },
  {
   "cell_type": "code",
   "execution_count": 60,
   "id": "9f71f841",
   "metadata": {},
   "outputs": [
    {
     "name": "stdout",
     "output_type": "stream",
     "text": [
      "              precision    recall  f1-score   support\n",
      "\n",
      "           0       0.82      0.87      0.84      1242\n",
      "           1       0.56      0.47      0.51       449\n",
      "\n",
      "    accuracy                           0.76      1691\n",
      "   macro avg       0.69      0.67      0.67      1691\n",
      "weighted avg       0.75      0.76      0.75      1691\n",
      "\n"
     ]
    }
   ],
   "source": [
    "# Produce y_predictions that come from the X_validate\n",
    "y_pred = knn1.predict(X_validate)\n",
    "\n",
    "# Compare actual y values (from validate) to predicted y_values from the model run on X_validate\n",
    "print(classification_report(y_validate, y_pred))"
   ]
  },
  {
   "cell_type": "code",
   "execution_count": 91,
   "id": "3e167bd9",
   "metadata": {},
   "outputs": [
    {
     "name": "stdout",
     "output_type": "stream",
     "text": [
      "Accuracy of KNN classifier on Validate set: 0.76\n"
     ]
    }
   ],
   "source": [
    "print('Accuracy of KNN classifier on Validate set: {:.2f}'\n",
    "     .format(knn1.score(X_validate, y_validate)))"
   ]
  },
  {
   "cell_type": "markdown",
   "id": "b344b6c6",
   "metadata": {},
   "source": [
    "# Test Testing"
   ]
  },
  {
   "cell_type": "code",
   "execution_count": 92,
   "id": "9ff3f0a6",
   "metadata": {},
   "outputs": [
    {
     "name": "stdout",
     "output_type": "stream",
     "text": [
      "Accuracy of random forest classifier on test set: 0.81\n"
     ]
    }
   ],
   "source": [
    "print('Accuracy of random forest classifier on test set: {:.2f}'\n",
    "     .format(ranf.score(X_test, y_test)))"
   ]
  },
  {
   "cell_type": "code",
   "execution_count": 62,
   "id": "eb5a3815",
   "metadata": {},
   "outputs": [
    {
     "name": "stdout",
     "output_type": "stream",
     "text": [
      "              precision    recall  f1-score   support\n",
      "\n",
      "           0       0.85      0.90      0.87      1035\n",
      "           1       0.67      0.55      0.60       374\n",
      "\n",
      "    accuracy                           0.81      1409\n",
      "   macro avg       0.76      0.73      0.74      1409\n",
      "weighted avg       0.80      0.81      0.80      1409\n",
      "\n"
     ]
    }
   ],
   "source": [
    "# Produce y_predictions that come from the X_test\n",
    "y_pred = ranf.predict(X_test)\n",
    "\n",
    "# Compare actual y values (from Test) to predicted y_values from the model run on X_test\n",
    "print(classification_report(y_test, y_pred))"
   ]
  },
  {
   "cell_type": "code",
   "execution_count": 63,
   "id": "acb51f3c",
   "metadata": {},
   "outputs": [
    {
     "name": "stdout",
     "output_type": "stream",
     "text": [
      "[0.01756806 0.19445219 0.12545444 0.17101702 0.01931702 0.01532658\n",
      " 0.01533921 0.00531239 0.00541106 0.01605719 0.01077373 0.02797329\n",
      " 0.00749741 0.01831546 0.00791722 0.01415667 0.0072475  0.03355501\n",
      " 0.0079612  0.01374514 0.0108079  0.0132009  0.02609897 0.02599399\n",
      " 0.04625988 0.06471474 0.00691932 0.01194034 0.049468   0.01019818]\n"
     ]
    }
   ],
   "source": [
    "print(ranf.feature_importances_)"
   ]
  },
  {
   "cell_type": "code",
   "execution_count": 64,
   "id": "b6484ec3",
   "metadata": {},
   "outputs": [
    {
     "data": {
      "text/plain": [
       "Index(['senior_citizen', 'tenure', 'monthly_charges', 'total_charges',\n",
       "       'is_male', 'has_partner', 'has_dependent', 'phone_service_Yes',\n",
       "       'multiple_lines_No phone service', 'multiple_lines_Yes',\n",
       "       'online_security_No internet service', 'online_security_Yes',\n",
       "       'online_backup_No internet service', 'online_backup_Yes',\n",
       "       'device_protection_No internet service', 'device_protection_Yes',\n",
       "       'tech_support_No internet service', 'tech_support_Yes',\n",
       "       'streaming_tv_No internet service', 'streaming_tv_Yes',\n",
       "       'streaming_movies_No internet service', 'streaming_movies_Yes',\n",
       "       'paperless_billing_Yes', 'contract_type_One year',\n",
       "       'contract_type_Two year', 'internet_service_type_Fiber optic',\n",
       "       'internet_service_type_None', 'payment_type_Credit card (automatic)',\n",
       "       'payment_type_Electronic check', 'payment_type_Mailed check'],\n",
       "      dtype='object')"
      ]
     },
     "execution_count": 64,
     "metadata": {},
     "output_type": "execute_result"
    }
   ],
   "source": [
    "X_train.columns"
   ]
  },
  {
   "cell_type": "markdown",
   "id": "c7cf15c7",
   "metadata": {},
   "source": [
    "# Key Takeaways"
   ]
  },
  {
   "cell_type": "markdown",
   "id": "48da69ed",
   "metadata": {},
   "source": [
    "Starting with electric checking have a relatioship with churn, fiber optics have a relationship wiht churn, is being a senior citizen a cause for churn, is having a dependent a cause for churn?\n",
    "\n",
    "During these tests we see that there a significant cause for churn with all these items based off statistical analysis tests/charts. When running through the algorithms to create the ML we find that random forest model is best suited for this job of finding churn, I'd say that with 80% accuracy that this random forest model will be able to detect churn with future unseen data."
   ]
  },
  {
   "cell_type": "markdown",
   "id": "b1da5e6f",
   "metadata": {},
   "source": [
    "# Recommendations"
   ]
  },
  {
   "cell_type": "markdown",
   "id": "a5564bc3",
   "metadata": {},
   "source": [
    "We see here that fiber optics and electric checking have a large cause of churn within this data set and my recommendation would be to further investigate the cause on these variables, we can also see through our ML using random forest we can use its 'feature_importance_' function to finder other ideal causes for churn by seeing there significance in finding other key churn values. We should create a team to investigate these high rates of churn detected by the model first starting with fiber optics and creating a new plan on handling churn as well as electric checking."
   ]
  },
  {
   "cell_type": "markdown",
   "id": "b46ee2e9",
   "metadata": {},
   "source": [
    "# Next Time"
   ]
  },
  {
   "cell_type": "markdown",
   "id": "7243beda",
   "metadata": {},
   "source": [
    "As stated before we can use the model also see what it decided what are key features in determeing what causes to churn, I would like for next time to further investage those variables!"
   ]
  },
  {
   "cell_type": "code",
   "execution_count": null,
   "id": "d37aadb7",
   "metadata": {},
   "outputs": [],
   "source": []
  }
 ],
 "metadata": {
  "kernelspec": {
   "display_name": "Python 3",
   "language": "python",
   "name": "python3"
  },
  "language_info": {
   "codemirror_mode": {
    "name": "ipython",
    "version": 3
   },
   "file_extension": ".py",
   "mimetype": "text/x-python",
   "name": "python",
   "nbconvert_exporter": "python",
   "pygments_lexer": "ipython3",
   "version": "3.8.8"
  }
 },
 "nbformat": 4,
 "nbformat_minor": 5
}
